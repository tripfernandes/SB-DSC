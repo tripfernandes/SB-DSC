{
 "nbformat": 4,
 "nbformat_minor": 0,
 "metadata": {
  "kernelspec": {
   "display_name": "Python 3",
   "language": "python",
   "name": "python3"
  },
  "language_info": {
   "codemirror_mode": {
    "name": "ipython",
    "version": 3
   },
   "file_extension": ".py",
   "mimetype": "text/x-python",
   "name": "python",
   "nbconvert_exporter": "python",
   "pygments_lexer": "ipython3",
   "version": "3.7.3"
  },
  "colab": {
   "name": "Springboard Data Science Career Track Unit 4 Challenge - Tier 3 Complete .ipynb",
   "provenance": [],
   "collapsed_sections": []
  }
 },
 "cells": [
  {
   "cell_type": "markdown",
   "metadata": {
    "id": "Tia3MP1SJpgj",
    "colab_type": "text"
   },
   "source": [
    "# Springboard Data Science Career Track Unit 4 Challenge - Tier 3 Complete\n",
    "\n",
    "## Objectives\n",
    "Hey! Great job getting through those challenging DataCamp courses. You're learning a lot in a short span of time. \n",
    "\n",
    "In this notebook, you're going to apply the skills you've been learning, bridging the gap between the controlled environment of DataCamp and the *slightly* messier work that data scientists do with actual datasets!\n",
    "\n",
    "Here’s the mystery we’re going to solve: ***which boroughs of London have seen the greatest increase in housing prices, on average, over the last two decades?***\n",
    "\n",
    "\n",
    "A borough is just a fancy word for district. You may be familiar with the five boroughs of New York… well, there are 32 boroughs within Greater London [(here's some info for the curious)](https://en.wikipedia.org/wiki/London_boroughs). Some of them are more desirable areas to live in, and the data will reflect that with a greater rise in housing prices.\n",
    "\n",
    "***This is the Tier 3 notebook, which means it's not filled in at all: we'll just give you the skeleton of a project, the brief and the data. It's up to you to play around with it and see what you can find out! Good luck! If you struggle, feel free to look at easier tiers for help; but try to dip in and out of them, as the more independent work you do, the better it is for your learning!***\n",
    "\n",
    "This challenge will make use of only what you learned in the following DataCamp courses: \n",
    "- Prework courses (Introduction to Python for Data Science, Intermediate Python for Data Science)\n",
    "- Data Types for Data Science\n",
    "- Python Data Science Toolbox (Part One) \n",
    "- pandas Foundations\n",
    "- Manipulating DataFrames with pandas\n",
    "- Merging DataFrames with pandas\n",
    "\n",
    "Of the tools, techniques and concepts in the above DataCamp courses, this challenge should require the application of the following: \n",
    "- **pandas**\n",
    "    - **data ingestion and inspection** (pandas Foundations, Module One) \n",
    "    - **exploratory data analysis** (pandas Foundations, Module Two)\n",
    "    - **tidying and cleaning** (Manipulating DataFrames with pandas, Module Three) \n",
    "    - **transforming DataFrames** (Manipulating DataFrames with pandas, Module One)\n",
    "    - **subsetting DataFrames with lists** (Manipulating DataFrames with pandas, Module One) \n",
    "    - **filtering DataFrames** (Manipulating DataFrames with pandas, Module One) \n",
    "    - **grouping data** (Manipulating DataFrames with pandas, Module Four) \n",
    "    - **melting data** (Manipulating DataFrames with pandas, Module Three) \n",
    "    - **advanced indexing** (Manipulating DataFrames with pandas, Module Four) \n",
    "- **matplotlib** (Intermediate Python for Data Science, Module One)\n",
    "- **fundamental data types** (Data Types for Data Science, Module One) \n",
    "- **dictionaries** (Intermediate Python for Data Science, Module Two)\n",
    "- **handling dates and times** (Data Types for Data Science, Module Four)\n",
    "- **function definition** (Python Data Science Toolbox - Part One, Module One)\n",
    "- **default arguments, variable length, and scope** (Python Data Science Toolbox - Part One, Module Two) \n",
    "- **lambda functions and error handling** (Python Data Science Toolbox - Part One, Module Four) "
   ]
  },
  {
   "cell_type": "markdown",
   "metadata": {
    "id": "Ipgd2nV8Jpgl",
    "colab_type": "text"
   },
   "source": [
    "## The Data Science Pipeline\n",
    "\n",
    "This is Tier Three, so we'll get you started. But after that, it's all in your hands! When you feel done with your investigations, look back over what you've accomplished, and prepare a quick presentation of your findings for the next mentor meeting. \n",
    "\n",
    "Data Science is magical. In this case study, you'll get to apply some complex machine learning algorithms. But as  [David Spiegelhalter](https://www.youtube.com/watch?v=oUs1uvsz0Ok) reminds us, there is no substitute for simply **taking a really, really good look at the data.** Sometimes, this is all we need to answer our question.\n",
    "\n",
    "Data Science projects generally adhere to the four stages of Data Science Pipeline:\n",
    "1. Sourcing and loading \n",
    "2. Cleaning, transforming, and visualizing \n",
    "3. Modeling \n",
    "4. Evaluating and concluding \n"
   ]
  },
  {
   "cell_type": "markdown",
   "metadata": {
    "id": "zswDqbefJpgm",
    "colab_type": "text"
   },
   "source": [
    "### 1. Sourcing and Loading \n",
    "\n",
    "Any Data Science project kicks off by importing  ***pandas***. The documentation of this wonderful library can be found [here](https://pandas.pydata.org/). As you've seen, pandas is conveniently connected to the [Numpy](http://www.numpy.org/) and [Matplotlib](https://matplotlib.org/) libraries. \n",
    "\n",
    "***Hint:*** This part of the data science pipeline will test those skills you acquired in the pandas Foundations course, Module One. "
   ]
  },
  {
   "cell_type": "markdown",
   "metadata": {
    "id": "aEau5nEvJpgm",
    "colab_type": "text"
   },
   "source": [
    "#### 1.1. Importing Libraries"
   ]
  },
  {
   "cell_type": "code",
   "metadata": {
    "id": "7Bt_Q_oPJpgn",
    "colab_type": "code",
    "colab": {}
   },
   "source": [
    "# Let's import the pandas, numpy libraries as pd, and np respectively. \n",
    "import pandas as pd\n",
    "import numpy as np\n",
    "\n",
    "# Load the pyplot collection of functions from matplotlib, as plt \n",
    "import matplotlib.pyplot as plt"
   ],
   "execution_count": 395,
   "outputs": []
  },
  {
   "cell_type": "markdown",
   "metadata": {
    "id": "koUrawxsJpgq",
    "colab_type": "text"
   },
   "source": [
    "#### 1.2.  Loading the data\n",
    "Your data comes from the [London Datastore](https://data.london.gov.uk/): a free, open-source data-sharing portal for London-oriented datasets. "
   ]
  },
  {
   "cell_type": "code",
   "metadata": {
    "id": "AiLiD4v3Jpgr",
    "colab_type": "code",
    "colab": {}
   },
   "source": [
    "# First, make a variable called url_LondonHousePrices, and assign it the following link, enclosed in quotation-marks as a string:\n",
    "# https://data.london.gov.uk/download/uk-house-price-index/70ac0766-8902-4eb5-aab5-01951aaed773/UK%20House%20price%20index.xls\n",
    "\n",
    "url_LondonHousePrices = \"https://data.london.gov.uk/download/uk-house-price-index/70ac0766-8902-4eb5-aab5-01951aaed773/UK%20House%20price%20index.xls\"\n",
    "\n",
    "# The dataset we're interested in contains the Average prices of the houses, and is actually on a particular sheet of the Excel file. \n",
    "# As a result, we need to specify the sheet name in the read_excel() method.\n",
    "# Put this data into a variable called properties.  \n",
    "properties = pd.read_excel(url_LondonHousePrices, sheet_name='Average price', index_col= None)"
   ],
   "execution_count": 396,
   "outputs": []
  },
  {
   "cell_type": "markdown",
   "metadata": {
    "id": "POukEJXgJpgu",
    "colab_type": "text"
   },
   "source": [
    "### 2. Cleaning, transforming, and visualizing\n",
    "This second stage is arguably the most important part of any Data Science project. The first thing to do is take a proper look at the data. Cleaning forms the majority of this stage, and can be done both before or after Transformation.\n",
    "\n",
    "The end goal of data cleaning is to have tidy data. When data is tidy: \n",
    "\n",
    "1. Each variable has a column.\n",
    "2. Each observation forms a row.\n",
    "\n",
    "Keep the end goal in mind as you move through this process, every step will take you closer. \n",
    "\n",
    "\n",
    "\n",
    "***Hint:*** This part of the data science pipeline should test those skills you acquired in: \n",
    "- Intermediate Python for data science, all modules.\n",
    "- pandas Foundations, all modules. \n",
    "- Manipulating DataFrames with pandas, all modules.\n",
    "- Data Types for Data Science, Module Four.\n",
    "- Python Data Science Toolbox - Part One, all modules"
   ]
  },
  {
   "cell_type": "markdown",
   "metadata": {
    "id": "Te0Q548tnzZa",
    "colab_type": "text"
   },
   "source": [
    "**2.1. Exploring your data** \n",
    "\n",
    "Think about your pandas functions for checking out a dataframe. "
   ]
  },
  {
   "cell_type": "code",
   "metadata": {
    "id": "Rxirxw_qoAJa",
    "colab_type": "code",
    "colab": {}
   },
   "source": [
    "properties.head()"
   ],
   "execution_count": 397,
   "outputs": [
    {
     "data": {
      "text/plain": "  Unnamed: 0 City of London Barking & Dagenham       Barnet       Bexley  \\\n0        NaT      E09000001          E09000002    E09000003    E09000004   \n1 1995-01-01    91448.98487         50460.2266  93284.51832  64958.09036   \n2 1995-02-01    82202.77314        51085.77983  93190.16963  64787.92069   \n3 1995-03-01    79120.70256        51268.96956  92247.52435  64367.49344   \n4 1995-04-01    77101.20804        53133.50526  90762.87492  64277.66881   \n\n         Brent      Bromley       Camden      Croydon       Ealing  ...  \\\n0    E09000005    E09000006    E09000007    E09000008    E09000009  ...   \n1  71306.56698  81671.47692  120932.8881  69158.16225  79885.89069  ...   \n2  72022.26197  81657.55944  119508.8622  68951.09542  80897.06551  ...   \n3  72015.76274  81449.31143  120282.2131  68712.44341  81379.86288  ...   \n4  72965.63094  81124.41227   120097.899  68610.04641  82188.90498  ...   \n\n    NORTH WEST YORKS & THE HUMBER EAST MIDLANDS WEST MIDLANDS EAST OF ENGLAND  \\\n0    E12000002          E12000003     E12000004     E12000005       E12000006   \n1  43958.48001        44803.42878   45544.52227   48527.52339      56701.5961   \n2  43925.42289        44528.80721   46051.57066   49341.29029     56593.59475   \n3   44434.8681        45200.46775   45383.82395   49442.17973     56171.18278   \n4   44267.7796        45614.34341   46124.23045   49455.93299     56567.89582   \n\n        LONDON   SOUTH EAST   SOUTH WEST Unnamed: 47      England  \n0    E12000007    E12000008    E12000009         NaN    E92000001  \n1  74435.76052  64018.87894   54705.1579         NaN  53202.77128  \n2  72777.93709  63715.02399  54356.14843         NaN   53096.1549  \n3  73896.84204  64113.60858  53583.07667         NaN   53201.2843  \n4  74455.28754  64623.22395  54786.01938         NaN   53590.8548  \n\n[5 rows x 49 columns]",
      "text/html": "<div>\n<style scoped>\n    .dataframe tbody tr th:only-of-type {\n        vertical-align: middle;\n    }\n\n    .dataframe tbody tr th {\n        vertical-align: top;\n    }\n\n    .dataframe thead th {\n        text-align: right;\n    }\n</style>\n<table border=\"1\" class=\"dataframe\">\n  <thead>\n    <tr style=\"text-align: right;\">\n      <th></th>\n      <th>Unnamed: 0</th>\n      <th>City of London</th>\n      <th>Barking &amp; Dagenham</th>\n      <th>Barnet</th>\n      <th>Bexley</th>\n      <th>Brent</th>\n      <th>Bromley</th>\n      <th>Camden</th>\n      <th>Croydon</th>\n      <th>Ealing</th>\n      <th>...</th>\n      <th>NORTH WEST</th>\n      <th>YORKS &amp; THE HUMBER</th>\n      <th>EAST MIDLANDS</th>\n      <th>WEST MIDLANDS</th>\n      <th>EAST OF ENGLAND</th>\n      <th>LONDON</th>\n      <th>SOUTH EAST</th>\n      <th>SOUTH WEST</th>\n      <th>Unnamed: 47</th>\n      <th>England</th>\n    </tr>\n  </thead>\n  <tbody>\n    <tr>\n      <th>0</th>\n      <td>NaT</td>\n      <td>E09000001</td>\n      <td>E09000002</td>\n      <td>E09000003</td>\n      <td>E09000004</td>\n      <td>E09000005</td>\n      <td>E09000006</td>\n      <td>E09000007</td>\n      <td>E09000008</td>\n      <td>E09000009</td>\n      <td>...</td>\n      <td>E12000002</td>\n      <td>E12000003</td>\n      <td>E12000004</td>\n      <td>E12000005</td>\n      <td>E12000006</td>\n      <td>E12000007</td>\n      <td>E12000008</td>\n      <td>E12000009</td>\n      <td>NaN</td>\n      <td>E92000001</td>\n    </tr>\n    <tr>\n      <th>1</th>\n      <td>1995-01-01</td>\n      <td>91448.98487</td>\n      <td>50460.2266</td>\n      <td>93284.51832</td>\n      <td>64958.09036</td>\n      <td>71306.56698</td>\n      <td>81671.47692</td>\n      <td>120932.8881</td>\n      <td>69158.16225</td>\n      <td>79885.89069</td>\n      <td>...</td>\n      <td>43958.48001</td>\n      <td>44803.42878</td>\n      <td>45544.52227</td>\n      <td>48527.52339</td>\n      <td>56701.5961</td>\n      <td>74435.76052</td>\n      <td>64018.87894</td>\n      <td>54705.1579</td>\n      <td>NaN</td>\n      <td>53202.77128</td>\n    </tr>\n    <tr>\n      <th>2</th>\n      <td>1995-02-01</td>\n      <td>82202.77314</td>\n      <td>51085.77983</td>\n      <td>93190.16963</td>\n      <td>64787.92069</td>\n      <td>72022.26197</td>\n      <td>81657.55944</td>\n      <td>119508.8622</td>\n      <td>68951.09542</td>\n      <td>80897.06551</td>\n      <td>...</td>\n      <td>43925.42289</td>\n      <td>44528.80721</td>\n      <td>46051.57066</td>\n      <td>49341.29029</td>\n      <td>56593.59475</td>\n      <td>72777.93709</td>\n      <td>63715.02399</td>\n      <td>54356.14843</td>\n      <td>NaN</td>\n      <td>53096.1549</td>\n    </tr>\n    <tr>\n      <th>3</th>\n      <td>1995-03-01</td>\n      <td>79120.70256</td>\n      <td>51268.96956</td>\n      <td>92247.52435</td>\n      <td>64367.49344</td>\n      <td>72015.76274</td>\n      <td>81449.31143</td>\n      <td>120282.2131</td>\n      <td>68712.44341</td>\n      <td>81379.86288</td>\n      <td>...</td>\n      <td>44434.8681</td>\n      <td>45200.46775</td>\n      <td>45383.82395</td>\n      <td>49442.17973</td>\n      <td>56171.18278</td>\n      <td>73896.84204</td>\n      <td>64113.60858</td>\n      <td>53583.07667</td>\n      <td>NaN</td>\n      <td>53201.2843</td>\n    </tr>\n    <tr>\n      <th>4</th>\n      <td>1995-04-01</td>\n      <td>77101.20804</td>\n      <td>53133.50526</td>\n      <td>90762.87492</td>\n      <td>64277.66881</td>\n      <td>72965.63094</td>\n      <td>81124.41227</td>\n      <td>120097.899</td>\n      <td>68610.04641</td>\n      <td>82188.90498</td>\n      <td>...</td>\n      <td>44267.7796</td>\n      <td>45614.34341</td>\n      <td>46124.23045</td>\n      <td>49455.93299</td>\n      <td>56567.89582</td>\n      <td>74455.28754</td>\n      <td>64623.22395</td>\n      <td>54786.01938</td>\n      <td>NaN</td>\n      <td>53590.8548</td>\n    </tr>\n  </tbody>\n</table>\n<p>5 rows × 49 columns</p>\n</div>"
     },
     "execution_count": 397,
     "metadata": {},
     "output_type": "execute_result"
    }
   ]
  },
  {
   "cell_type": "markdown",
   "metadata": {
    "id": "tE9Sqt9-oAta",
    "colab_type": "text"
   },
   "source": [
    "**2.2. Cleaning the data**\n",
    "\n",
    "You might find you need to transpose your dataframe, check out what its row indexes are, and reset the index. You  also might find you need to assign the values of the first row to your column headings  . (Hint: recall the .columns feature of DataFrames, as well as the iloc[] method).\n",
    "\n",
    "Don't be afraid to use StackOverflow for help  with this."
   ]
  },
  {
   "cell_type": "code",
   "metadata": {
    "id": "cdAu1A3YoH_r",
    "colab_type": "code",
    "colab": {}
   },
   "source": [
    "properties = properties.transpose().reset_index()\n",
    "\n",
    "properties.columns = properties.iloc[0]\n",
    "properties = properties.drop(properties.index[0])\n",
    "\n"
   ],
   "execution_count": 398,
   "outputs": []
  },
  {
   "cell_type": "markdown",
   "metadata": {
    "id": "o1uLbJAsoIjK",
    "colab_type": "text"
   },
   "source": [
    "**2.3. Cleaning the data (part 2)**\n",
    "\n",
    "You might we have to **rename** a couple columns. How do you do this? The clue's pretty bold..."
   ]
  },
  {
   "cell_type": "code",
   "metadata": {
    "id": "GKkmn1AnoVZS",
    "colab_type": "code",
    "colab": {}
   },
   "source": [
    "properties = properties.rename({'Unnamed: 0': 'Borough', pd.NaT: 'Postcode'}, axis=1)\n",
    "properties.head()\n",
    "properties = properties.drop(properties.index[33:])\n",
    "properties.Postcode.info"
   ],
   "execution_count": 399,
   "outputs": [
    {
     "data": {
      "text/plain": "<bound method Series.info of 1     E09000001\n2     E09000002\n3     E09000003\n4     E09000004\n5     E09000005\n6     E09000006\n7     E09000007\n8     E09000008\n9     E09000009\n10    E09000010\n11    E09000011\n12    E09000012\n13    E09000013\n14    E09000014\n15    E09000015\n16    E09000016\n17    E09000017\n18    E09000018\n19    E09000019\n20    E09000020\n21    E09000021\n22    E09000022\n23    E09000023\n24    E09000024\n25    E09000025\n26    E09000026\n27    E09000027\n28    E09000028\n29    E09000029\n30    E09000030\n31    E09000031\n32    E09000032\n33    E09000033\nName: Postcode, dtype: object>"
     },
     "execution_count": 399,
     "metadata": {},
     "output_type": "execute_result"
    }
   ]
  },
  {
   "cell_type": "markdown",
   "metadata": {
    "id": "jy8BzXHmoWEw",
    "colab_type": "text"
   },
   "source": [
    "**2.4.Transforming the data**\n",
    "\n",
    "Remember what Wes McKinney said about tidy data? \n",
    "\n",
    "You might need to **melt** your DataFrame here. "
   ]
  },
  {
   "cell_type": "code",
   "metadata": {
    "id": "S2wM0qLuo2Zt",
    "colab_type": "code",
    "colab": {}
   },
   "source": [
    "properties = properties.melt(id_vars = ['Postcode', 'Borough'], var_name = 'Date', value_name = 'Average_Price')\n",
    "properties.head()"
   ],
   "execution_count": 400,
   "outputs": [
    {
     "data": {
      "text/plain": "    Postcode             Borough       Date Average_Price\n0  E09000001      City of London 1995-01-01   91448.98487\n1  E09000002  Barking & Dagenham 1995-01-01    50460.2266\n2  E09000003              Barnet 1995-01-01   93284.51832\n3  E09000004              Bexley 1995-01-01   64958.09036\n4  E09000005               Brent 1995-01-01   71306.56698",
      "text/html": "<div>\n<style scoped>\n    .dataframe tbody tr th:only-of-type {\n        vertical-align: middle;\n    }\n\n    .dataframe tbody tr th {\n        vertical-align: top;\n    }\n\n    .dataframe thead th {\n        text-align: right;\n    }\n</style>\n<table border=\"1\" class=\"dataframe\">\n  <thead>\n    <tr style=\"text-align: right;\">\n      <th></th>\n      <th>Postcode</th>\n      <th>Borough</th>\n      <th>Date</th>\n      <th>Average_Price</th>\n    </tr>\n  </thead>\n  <tbody>\n    <tr>\n      <th>0</th>\n      <td>E09000001</td>\n      <td>City of London</td>\n      <td>1995-01-01</td>\n      <td>91448.98487</td>\n    </tr>\n    <tr>\n      <th>1</th>\n      <td>E09000002</td>\n      <td>Barking &amp; Dagenham</td>\n      <td>1995-01-01</td>\n      <td>50460.2266</td>\n    </tr>\n    <tr>\n      <th>2</th>\n      <td>E09000003</td>\n      <td>Barnet</td>\n      <td>1995-01-01</td>\n      <td>93284.51832</td>\n    </tr>\n    <tr>\n      <th>3</th>\n      <td>E09000004</td>\n      <td>Bexley</td>\n      <td>1995-01-01</td>\n      <td>64958.09036</td>\n    </tr>\n    <tr>\n      <th>4</th>\n      <td>E09000005</td>\n      <td>Brent</td>\n      <td>1995-01-01</td>\n      <td>71306.56698</td>\n    </tr>\n  </tbody>\n</table>\n</div>"
     },
     "execution_count": 400,
     "metadata": {},
     "output_type": "execute_result"
    }
   ]
  },
  {
   "cell_type": "markdown",
   "metadata": {
    "id": "7kIsgAo7o3mf",
    "colab_type": "text"
   },
   "source": [
    "Remember to make sure your column data types are all correct. Average prices, for example, should be floating point numbers... "
   ]
  },
  {
   "cell_type": "code",
   "metadata": {
    "id": "ZcR4IHbcpOaq",
    "colab_type": "code",
    "colab": {}
   },
   "source": [
    "properties['Average_Price'] = properties.Average_Price.astype(float)\n",
    "properties['Date'] = properties[\"Date\"].astype('datetime64[ns]')\n",
    "properties.Borough.unique()\n"
   ],
   "execution_count": 401,
   "outputs": [
    {
     "data": {
      "text/plain": "array(['City of London', 'Barking & Dagenham', 'Barnet', 'Bexley',\n       'Brent', 'Bromley', 'Camden', 'Croydon', 'Ealing', 'Enfield',\n       'Greenwich', 'Hackney', 'Hammersmith & Fulham', 'Haringey',\n       'Harrow', 'Havering', 'Hillingdon', 'Hounslow', 'Islington',\n       'Kensington & Chelsea', 'Kingston upon Thames', 'Lambeth',\n       'Lewisham', 'Merton', 'Newham', 'Redbridge',\n       'Richmond upon Thames', 'Southwark', 'Sutton', 'Tower Hamlets',\n       'Waltham Forest', 'Wandsworth', 'Westminster'], dtype=object)"
     },
     "execution_count": 401,
     "metadata": {},
     "output_type": "execute_result"
    }
   ]
  },
  {
   "cell_type": "markdown",
   "metadata": {
    "id": "knLUXHLypOtw",
    "colab_type": "text"
   },
   "source": [
    "**2.5. Cleaning the data (part 3)**\n",
    "\n",
    "Do we have an equal number of observations in the ID, Average Price, Month, and London Borough columns? Remember that there are only 32 London Boroughs. How many entries do you have in that column? \n",
    "\n",
    "Check out the contents of the London Borough column, and if you find null values, get rid of them however you see fit. "
   ]
  },
  {
   "cell_type": "code",
   "metadata": {
    "id": "BnvTW5a3p0fC",
    "colab_type": "code",
    "colab": {}
   },
   "source": [
    "print(properties['Average_Price'].isnull().sum())"
   ],
   "execution_count": 402,
   "outputs": [
    {
     "name": "stdout",
     "output_type": "stream",
     "text": [
      "0\n"
     ]
    }
   ]
  },
  {
   "cell_type": "markdown",
   "metadata": {
    "id": "PGEx6mJsp6dG",
    "colab_type": "text"
   },
   "source": [
    "**2.6. Visualizing the data**\n",
    "\n",
    "To visualize the data, why not subset on a particular London Borough? Maybe do a line plot of Month against Average Price?"
   ]
  },
  {
   "cell_type": "code",
   "metadata": {
    "id": "nAg5pT9cqHAR",
    "colab_type": "code",
    "colab": {}
   },
   "source": [
    "barnet = properties[properties['Borough']=='Barnet']\n",
    "print(barnet)\n",
    "barnet.plot.line(x= 'Date', y = 'Average_Price')"
   ],
   "execution_count": 403,
   "outputs": [
    {
     "name": "stdout",
     "output_type": "stream",
     "text": [
      "        Postcode Borough       Date  Average_Price\n",
      "2      E09000003  Barnet 1995-01-01    93284.51832\n",
      "35     E09000003  Barnet 1995-02-01    93190.16963\n",
      "68     E09000003  Barnet 1995-03-01    92247.52435\n",
      "101    E09000003  Barnet 1995-04-01    90762.87492\n",
      "134    E09000003  Barnet 1995-05-01    90258.00033\n",
      "...          ...     ...        ...            ...\n",
      "10892  E09000003  Barnet 2022-07-01   591298.17908\n",
      "10925  E09000003  Barnet 2022-08-01   598728.88783\n",
      "10958  E09000003  Barnet 2022-09-01   603197.24048\n",
      "10991  E09000003  Barnet 2022-10-01   598389.13540\n",
      "11024  E09000003  Barnet 2022-11-01   585172.92015\n",
      "\n",
      "[335 rows x 4 columns]\n"
     ]
    },
    {
     "data": {
      "text/plain": "<AxesSubplot:xlabel='Date'>"
     },
     "execution_count": 403,
     "metadata": {},
     "output_type": "execute_result"
    },
    {
     "data": {
      "text/plain": "<Figure size 640x480 with 1 Axes>",
      "image/png": "[encoded data removed]"
     },
     "metadata": {},
     "output_type": "display_data"
    }
   ]
  },
  {
   "cell_type": "markdown",
   "metadata": {
    "id": "aWTPqSJeqHnC",
    "colab_type": "text"
   },
   "source": [
    "To limit the number of data points you have, you might want to extract the year from every month value your *Month* column. \n",
    "\n",
    "To this end, you *could* apply a ***lambda function***. Your logic could work as follows:\n",
    "1. look through the `Month` column\n",
    "2. extract the year from each individual value in that column \n",
    "3. store that corresponding year as separate column. \n",
    "\n",
    "Whether you go ahead with this is up to you. Just so long as you answer our initial brief: which boroughs of London have seen the greatest house price increase, on average, over the past two decades? "
   ]
  },
  {
   "cell_type": "code",
   "metadata": {
    "id": "e0DF92cyqnu8",
    "colab_type": "code",
    "colab": {}
   },
   "source": [
    "properties['Year'] = properties['Date'].dt.strftime('%Y')\n",
    "properties.head()"
   ],
   "execution_count": 404,
   "outputs": [
    {
     "data": {
      "text/plain": "    Postcode             Borough       Date  Average_Price  Year\n0  E09000001      City of London 1995-01-01    91448.98487  1995\n1  E09000002  Barking & Dagenham 1995-01-01    50460.22660  1995\n2  E09000003              Barnet 1995-01-01    93284.51832  1995\n3  E09000004              Bexley 1995-01-01    64958.09036  1995\n4  E09000005               Brent 1995-01-01    71306.56698  1995",
      "text/html": "<div>\n<style scoped>\n    .dataframe tbody tr th:only-of-type {\n        vertical-align: middle;\n    }\n\n    .dataframe tbody tr th {\n        vertical-align: top;\n    }\n\n    .dataframe thead th {\n        text-align: right;\n    }\n</style>\n<table border=\"1\" class=\"dataframe\">\n  <thead>\n    <tr style=\"text-align: right;\">\n      <th></th>\n      <th>Postcode</th>\n      <th>Borough</th>\n      <th>Date</th>\n      <th>Average_Price</th>\n      <th>Year</th>\n    </tr>\n  </thead>\n  <tbody>\n    <tr>\n      <th>0</th>\n      <td>E09000001</td>\n      <td>City of London</td>\n      <td>1995-01-01</td>\n      <td>91448.98487</td>\n      <td>1995</td>\n    </tr>\n    <tr>\n      <th>1</th>\n      <td>E09000002</td>\n      <td>Barking &amp; Dagenham</td>\n      <td>1995-01-01</td>\n      <td>50460.22660</td>\n      <td>1995</td>\n    </tr>\n    <tr>\n      <th>2</th>\n      <td>E09000003</td>\n      <td>Barnet</td>\n      <td>1995-01-01</td>\n      <td>93284.51832</td>\n      <td>1995</td>\n    </tr>\n    <tr>\n      <th>3</th>\n      <td>E09000004</td>\n      <td>Bexley</td>\n      <td>1995-01-01</td>\n      <td>64958.09036</td>\n      <td>1995</td>\n    </tr>\n    <tr>\n      <th>4</th>\n      <td>E09000005</td>\n      <td>Brent</td>\n      <td>1995-01-01</td>\n      <td>71306.56698</td>\n      <td>1995</td>\n    </tr>\n  </tbody>\n</table>\n</div>"
     },
     "execution_count": 404,
     "metadata": {},
     "output_type": "execute_result"
    }
   ]
  },
  {
   "cell_type": "markdown",
   "metadata": {
    "id": "2knuTxAEqoJ4",
    "colab_type": "text"
   },
   "source": [
    "**3. Modeling**\n",
    "\n",
    "Consider creating a function that will calculate a ratio of house prices, comparing the price of a house in 2018 to the price in 1998.\n",
    "\n",
    "Consider calling this function create_price_ratio.\n",
    "\n",
    "You'd want this function to:\n",
    "1. Take a filter of dfg, specifically where this filter constrains the London_Borough, as an argument. For example, one admissible argument should be: dfg[dfg['London_Borough']=='Camden'].\n",
    "2. Get the Average Price for that Borough, for the years 1998 and 2018.\n",
    "4. Calculate the ratio of the Average Price for 1998 divided by the Average Price for 2018.\n",
    "5. Return that ratio.\n",
    "\n",
    "Once you've written this function, you ultimately want to use it to iterate through all the unique London_Boroughs and work out the ratio capturing the difference of house prices between 1998 and 2018.\n",
    "\n",
    "Bear in mind: you don't have to write a function like this if you don't want to. If you can solve the brief otherwise, then great! \n",
    "\n",
    "***Hint***: This section should test the skills you acquired in:\n",
    "- Python Data Science Toolbox - Part One, all modules"
   ]
  },
  {
   "cell_type": "code",
   "metadata": {
    "id": "cKTyr437UgDa",
    "colab_type": "code",
    "colab": {}
   },
   "source": [
    "def create_price_ratio(df, borough, year_beg, year_end):\n",
    "    new_val = df[(df['Borough'] == borough) & (df['Year'] == str(year_end))]\n",
    "    old_val = df[(df['Borough'] == borough) & (df['Year'] == str(year_beg))]\n",
    "    new_val_avg = new_val['Average_Price'].mean()\n",
    "    old_val_avg = old_val['Average_Price'].mean()\n",
    "    cpr = (new_val_avg - old_val_avg) / old_val_avg * 100\n",
    "    return cpr"
   ],
   "execution_count": 405,
   "outputs": []
  },
  {
   "cell_type": "code",
   "execution_count": 406,
   "outputs": [
    {
     "data": {
      "text/plain": "539.5887793888124"
     },
     "execution_count": 406,
     "metadata": {},
     "output_type": "execute_result"
    }
   ],
   "source": [
    "create_price_ratio(properties, 'Barnet', 1995, 2022)"
   ],
   "metadata": {
    "collapsed": false
   }
  },
  {
   "cell_type": "code",
   "execution_count": 407,
   "outputs": [],
   "source": [
    "data = []\n",
    "boroughs = properties['Borough'].unique()\n",
    "for borough in boroughs:\n",
    "    percent_change = create_price_ratio(properties, borough, 1998, 2018)\n",
    "    data.append(percent_change)\n"
   ],
   "metadata": {
    "collapsed": false
   }
  },
  {
   "cell_type": "code",
   "execution_count": 408,
   "outputs": [],
   "source": [
    "datadf = pd.DataFrame(data)\n",
    "boroughsdf = pd.DataFrame(boroughs)"
   ],
   "metadata": {
    "collapsed": false
   }
  },
  {
   "cell_type": "code",
   "execution_count": 409,
   "outputs": [
    {
     "name": "stdout",
     "output_type": "stream",
     "text": [
      "                boroughs  percent_change\n",
      "0         City of London      430.162038\n",
      "1     Barking & Dagenham      389.661861\n",
      "2                 Barnet      335.819592\n",
      "3                 Bexley      324.897705\n",
      "4                  Brent      389.455450\n",
      "5                Bromley      309.478469\n",
      "6                 Camden      393.535341\n",
      "7                Croydon      320.110028\n",
      "8                 Ealing      331.145090\n",
      "9                Enfield      326.347158\n",
      "10             Greenwich      376.303635\n",
      "11               Hackney      519.828556\n",
      "12  Hammersmith & Fulham      313.779810\n",
      "13              Haringey      413.462496\n",
      "14                Harrow      305.919643\n",
      "15              Havering      332.523037\n",
      "16            Hillingdon      320.027308\n",
      "17              Hounslow      297.640911\n",
      "18             Islington      384.404801\n",
      "19  Kensington & Chelsea      408.246507\n",
      "20  Kingston upon Thames      327.054952\n",
      "21               Lambeth      395.775116\n",
      "22              Lewisham      444.922104\n",
      "23                Merton      374.127331\n",
      "24                Newham      430.539044\n",
      "25             Redbridge      347.118201\n",
      "26  Richmond upon Thames      300.516190\n",
      "27             Southwark      451.648530\n",
      "28                Sutton      311.852261\n",
      "29         Tower Hamlets      362.670104\n",
      "30        Waltham Forest      483.475581\n",
      "31            Wandsworth      375.770935\n",
      "32           Westminster      435.356539\n"
     ]
    }
   ],
   "source": [
    "pcdf = pd.concat([boroughsdf, datadf], axis = 1, keys = ['boroughs', 'percent_change'])\n",
    "pcdf = pcdf.droplevel(1, axis= 1)\n",
    "print(pcdf)"
   ],
   "metadata": {
    "collapsed": false
   }
  },
  {
   "cell_type": "code",
   "execution_count": 410,
   "outputs": [
    {
     "name": "stdout",
     "output_type": "stream",
     "text": [
      "                boroughs  percent_change\n",
      "11               Hackney      519.828556\n",
      "30        Waltham Forest      483.475581\n",
      "27             Southwark      451.648530\n",
      "22              Lewisham      444.922104\n",
      "32           Westminster      435.356539\n",
      "24                Newham      430.539044\n",
      "0         City of London      430.162038\n",
      "13              Haringey      413.462496\n",
      "19  Kensington & Chelsea      408.246507\n",
      "21               Lambeth      395.775116\n",
      "6                 Camden      393.535341\n",
      "1     Barking & Dagenham      389.661861\n",
      "4                  Brent      389.455450\n",
      "18             Islington      384.404801\n",
      "10             Greenwich      376.303635\n",
      "31            Wandsworth      375.770935\n",
      "23                Merton      374.127331\n",
      "29         Tower Hamlets      362.670104\n",
      "25             Redbridge      347.118201\n",
      "2                 Barnet      335.819592\n",
      "15              Havering      332.523037\n",
      "8                 Ealing      331.145090\n",
      "20  Kingston upon Thames      327.054952\n",
      "9                Enfield      326.347158\n",
      "3                 Bexley      324.897705\n",
      "7                Croydon      320.110028\n",
      "16            Hillingdon      320.027308\n",
      "12  Hammersmith & Fulham      313.779810\n",
      "28                Sutton      311.852261\n",
      "5                Bromley      309.478469\n",
      "14                Harrow      305.919643\n",
      "26  Richmond upon Thames      300.516190\n",
      "17              Hounslow      297.640911\n"
     ]
    }
   ],
   "source": [
    "pcdf_srt = pcdf.sort_values(by = 'percent_change', ascending = False)\n",
    "print(pcdf_srt)"
   ],
   "metadata": {
    "collapsed": false
   }
  },
  {
   "cell_type": "code",
   "execution_count": 411,
   "outputs": [
    {
     "data": {
      "text/plain": "<AxesSubplot:xlabel='boroughs'>"
     },
     "execution_count": 411,
     "metadata": {},
     "output_type": "execute_result"
    },
    {
     "data": {
      "text/plain": "<Figure size 640x480 with 1 Axes>",
      "image/png": "[encoded data removed]"
     },
     "metadata": {},
     "output_type": "display_data"
    }
   ],
   "source": [
    "pcdf.plot.bar(x = 'boroughs', y = 'percent_change')"
   ],
   "metadata": {
    "collapsed": false
   }
  },
  {
   "cell_type": "markdown",
   "metadata": {
    "id": "NzYUI7FxJpgv",
    "colab_type": "text"
   },
   "source": [
    "### 4. Conclusion\n",
    "What can you conclude? Type out your conclusion below. \n",
    "\n",
    "Look back at your notebook. Think about how you might summarize what you have done, and prepare a quick presentation on it to your mentor at your next meeting. \n",
    "\n",
    "We hope you enjoyed this practical project. It should have consolidated your data hygiene and pandas skills by looking at a real-world problem involving just the kind of dataset you might encounter as a budding data scientist. Congratulations, and looking forward to seeing you at the next step in the course!"
   ]
  },
  {
   "cell_type": "markdown",
   "source": [
    "After cleaning the data, I was able to create a percent change function which calculated the percent change between two yearly averages. Next, I created a new data frame with the boroughs and the percent change.  I sorted the values and plotted the values to see which boroughs had the largest and smallest percent change. This is only one dimension of the story.  Next questions to pursue are what caused the highest percent change boroughs to change so much and what limited the other boroughs.  Why is there a disparity between the different boroughs? Perhaps crime? Perhaps better job opportunity? Perhaps something else entirely."
   ],
   "metadata": {
    "collapsed": false
   }
  }
 ]
}
